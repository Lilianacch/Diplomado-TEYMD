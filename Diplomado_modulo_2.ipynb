{
  "nbformat": 4,
  "nbformat_minor": 0,
  "metadata": {
    "colab": {
      "provenance": []
    },
    "kernelspec": {
      "name": "python3",
      "display_name": "Python 3"
    },
    "language_info": {
      "name": "python"
    }
  },
  "cells": [
    {
      "cell_type": "code",
      "execution_count": null,
      "metadata": {
        "colab": {
          "base_uri": "https://localhost:8080/"
        },
        "id": "D5URAxlzpcky",
        "outputId": "7c05eb61-85a9-4d7e-f43c-94222ba01d38"
      },
      "outputs": [
        {
          "output_type": "stream",
          "name": "stdout",
          "text": [
            "¿Cuantas veces se lanzará la moneda? 3\n",
            "¿Al menos cuantos soles busca? 2\n",
            "([('A', 'S', 'S'), ('S', 'A', 'S'), ('S', 'S', 'A'), ('S', 'S', 'S')], 0.5)\n"
          ]
        }
      ],
      "source": [
        "import itertools as it\n",
        "\n",
        "def soles(n,s):\n",
        "  Omega = list(it.product(\"AS\", repeat=n))  #n es el número de lanzamientos\n",
        "  res = [om for om in Omega if om.count('S') >= s] #s es el número de soles que se buscan en mayor o igual\n",
        "  p = len(res) / len(Omega)\n",
        "  return res, p\n",
        "\n",
        "n = int(input(\"¿Cuantas veces se lanzará la moneda? \"))\n",
        "s = int(input(\"¿Al menos cuantos soles busca? \"))\n",
        "print(soles(n,s))\n"
      ]
    }
  ]
}