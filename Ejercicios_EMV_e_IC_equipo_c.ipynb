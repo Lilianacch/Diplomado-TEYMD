{
  "nbformat": 4,
  "nbformat_minor": 0,
  "metadata": {
    "colab": {
      "provenance": [],
      "include_colab_link": true
    },
    "kernelspec": {
      "name": "python3",
      "display_name": "Python 3"
    },
    "language_info": {
      "name": "python"
    }
  },
  "cells": [
    {
      "cell_type": "markdown",
      "metadata": {
        "id": "view-in-github",
        "colab_type": "text"
      },
      "source": [
        "<a href=\"https://colab.research.google.com/github/Lilianacch/Diplomado-TEYMD/blob/main/Ejercicios_EMV_e_IC_equipo_c.ipynb\" target=\"_parent\"><img src=\"https://colab.research.google.com/assets/colab-badge.svg\" alt=\"Open In Colab\"/></a>"
      ]
    },
    {
      "cell_type": "markdown",
      "source": [
        "## **Equipo:**\n",
        "\n",
        "*   Estrada Espinoza Dulce Jasmin\n",
        "*   Carbajal Chavez Claudia Liliana\n",
        "*   Cardenas Alamilla Daniel Alejandro\n",
        "*   González Escobar Daniel\n",
        "*   Hurtado Wong Sebastian\n",
        "\n",
        "\n",
        "\n",
        "\n"
      ],
      "metadata": {
        "id": "dZLFiDE2Rvap"
      }
    },
    {
      "cell_type": "markdown",
      "source": [
        "# Tarea.\n"
      ],
      "metadata": {
        "id": "lU2x5qpOHS_Y"
      }
    },
    {
      "cell_type": "markdown",
      "source": [
        "## Estimador Máximo Verósimil\n",
        "\n",
        "1.- Una v.a $X$, es exponencial con parámetro $\\lambda >0$ si $$\\mathbb{P}(X)=1-e^{-\\lambda x}, x >0 $$\n",
        "Calcular el EMV\n",
        "\n",
        "2.- Supongamos que la vida útil de los focos de cierta marca se modela mediante una distribución exponencial con parámetro desconocido $\\lambda$. Probamos 5 focos y encontramops que la vida útil de $2,3,1,3$ y $4$ años respectivamente. ¿Cual es el EMV para $\\lambda$?\n",
        "\n",
        "3.- Suponga que se tiene una variable aleatoria discreta $X$ con densidad:\n",
        "\t\\begin{align*}\n",
        "\tP(X=0)&=\\frac{2}{3}\\theta,\\\\\n",
        "\tP(X=1)&=\\frac{1}{3}\\theta,\\\\\n",
        "\tP(X=2)&=\\frac{2}{3}(1-\\theta),\\\\\n",
        "\tP(X=3)&=\\frac{1}{3}(1-\\theta)\n",
        "\t\\end{align*}\n",
        "  con $\\theta\\in [0,1]$. Se toman las siguientes $10$ observaciones independientes de acuerdo a la distribución dada:\n",
        "  $$(3, 0, 2, 1, 3, 2, 1, 0, 2, 1).$$\n",
        "  Encuentra el EMV de $\\theta$.\n",
        "\n",
        "## Intervalos de confianza\n",
        "\n",
        "4.- En una encuesta de la UP, 225 estudiantes son seleccionados al azar de los que toman cálculo y se les pregunta si cálculo es su materia favorita. 100 estudiantes responden que el cálculo es su materia favorita. Proporcione un intervalo de confianza del 95 %  para la proporción de todos los estudiantes que toman cálculo y que la consideran su materia favorita.  \n",
        "\n",
        "5.- Los datos $1, 2, 3, 4$ se toman a partir de una distribución normal $N(\\mu,\\sigma^2)$ con $\\mu$ desconocida.\n",
        "  1. Encuentra un intervalo de confianza al nivel de $90\\%$ para $\\mu$, dado que $\\sigma =2$.\n",
        "  2. Encuentra un intervalo de confianza al nivel de $90\\%$ para $\\mu$.\n",
        "  3. Encuentra un intervalo de confianza al nivel de $90\\%$ para $\\sigma^2$."
      ],
      "metadata": {
        "id": "DBQyaEKLGnwg"
      }
    },
    {
      "cell_type": "markdown",
      "source": [
        "## Estimador Máximo Verósimil\n",
        "\n",
        "**1.- Una v.a $X$, es exponencial con parámetro $\\lambda >0$ si $$\\mathbb{P}(X)=1-e^{-\\lambda x}, x >0 $$\n",
        "Calcular el EMV**\n",
        "\n",
        "\n",
        "Si la función acumulada esta dada por la $\\mathbb{P}(X)$ anterior, entonces su función de densidad de probabilidad (PDF) correspondiente es:\n",
        "\n",
        "$$\\mathbb{f}(x)=\\lambda e^{-\\lambda x}, x >0$$\n",
        "\n",
        "**Fn. de Verosimilitud**\n",
        "\n",
        "$$L(\\lambda;X_1,X_2,...,X_n)=\\prod_{i = 1}^{n} \\lambda e^{-\\lambda x}$$\n",
        "\n",
        "Simplificando\n",
        "\n",
        "$$L(\\lambda;X)=\\lambda^{n}e^{-\\lambda\\sum_{i=1}^{n}X_i}$$\n",
        "\n",
        "Aplicando logaritmos:\n",
        "\n",
        "$$log L(\\lambda;X)=nlog(\\lambda)-\\lambda\\sum_{i=1}^{n}X_i$$\n",
        "\n",
        "Derivando:\n",
        "\n",
        "$$\\frac{d}{d\\lambda}log L(\\lambda;X)=\\frac{n}{\\lambda}-\\sum_{i=1}^{n}X_i=0$$\n",
        "\n",
        "Resolviendo:\n",
        "\n",
        "$$\\hat{\\lambda}=\\frac{n}{\\sum_{i=1}^{n}X_i}$$\n",
        "\n",
        "\n"
      ],
      "metadata": {
        "id": "6ciqH09s-U_E"
      }
    },
    {
      "cell_type": "markdown",
      "source": [
        "**2.- Supongamos que la vida útil de los focos de cierta marca se modela mediante una distribución exponencial con parámetro desconocido $\\lambda$. Probamos 5 focos y encontramops que la vida útil de $2,3,1,3$ y $4$ años respectivamente. ¿Cual es el EMV para $\\lambda$?**\n",
        "\n",
        "Para $X= 2,3,1,3,4$, se tiene $n=5$, por lo tanto:\n",
        "\n",
        "$$\\hat{\\lambda}=\\frac{n}{\\sum_{i=1}^{n}X_i}=\\frac{5}{2+3+1+3+4}$$\n",
        "\n",
        "Por lo tanto el EMV para $\\lambda$ es:\n",
        "\n",
        "$$\\hat{\\lambda}=\\frac{5}{13}≈0.384615$$\n"
      ],
      "metadata": {
        "id": "uxrw73l_JVsm"
      }
    },
    {
      "cell_type": "code",
      "source": [
        "import numpy as np\n",
        "import sympy as sp\n",
        "\n",
        "# Datos observados de la vida útil de los focos\n",
        "datos = np.array([2, 3, 1, 3, 4])\n",
        "n = len(datos)  # Número de observaciones\n",
        "\n",
        "# Suma de las observaciones\n",
        "suma_datos = np.sum(datos)\n",
        "\n",
        "# Definimos la variable simbólica para lambda\n",
        "lambda_param = sp.symbols('lambda_param', positive=True)\n",
        "\n",
        "# Definimos la función de verosimilitud\n",
        "L = (lambda_param**n) * sp.exp(-lambda_param * suma_datos)\n",
        "\n",
        "# Derivamos la log-verosimilitud\n",
        "log_L = sp.log(L)\n",
        "derivada_log_L = sp.diff(log_L, lambda_param)\n",
        "\n",
        "# Encontramos el EMV resolviendo la ecuación derivada = 0\n",
        "solucion_lambda = sp.solve(derivada_log_L, lambda_param)\n",
        "\n",
        "# Mostrar el resultado\n",
        "print(f\"El EMV para λ es: {solucion_lambda[0]:.4f}\")\n"
      ],
      "metadata": {
        "colab": {
          "base_uri": "https://localhost:8080/"
        },
        "id": "TKqRogQwLmCz",
        "outputId": "61dc233a-741d-44c9-83e5-33f5df4e1252"
      },
      "execution_count": null,
      "outputs": [
        {
          "output_type": "stream",
          "name": "stdout",
          "text": [
            "El EMV para λ es: 0.3846\n"
          ]
        }
      ]
    },
    {
      "cell_type": "markdown",
      "source": [
        "**3.- Suponga que se tiene una variable aleatoria discreta $X$ con densidad:**\n",
        "\t\\begin{align*}\n",
        "\tP(X=0)&=\\frac{2}{3}\\theta,\\\\\n",
        "\tP(X=1)&=\\frac{1}{3}\\theta,\\\\\n",
        "\tP(X=2)&=\\frac{2}{3}(1-\\theta),\\\\\n",
        "\tP(X=3)&=\\frac{1}{3}(1-\\theta)\n",
        "\t\\end{align*}\n",
        "  con $\\theta\\in [0,1]$. Se toman las siguientes $10$ observaciones independientes de acuerdo a la distribución dada:\n",
        "  $$(3, 0, 2, 1, 3, 2, 1, 0, 2, 1).$$\n",
        "  Encuentra el EMV de $\\theta$.\n",
        "\n",
        "\n",
        "**Fn. de Verosimilitud**\n",
        "\n",
        "$$L(\\theta;X_i)=\\prod_{i = 1}^{10} P(X_i)$$\n",
        "\n",
        "Aplicando logaritmos:\n",
        "\n",
        "$$log L(\\theta)=n_0log\\left(\\frac{2}{3}\\theta\\right)+n_1log\\left(\\frac{1}{3}\\theta\\right)+n_2log\\left(\\frac{2}{3}(1-\\theta)\\right)+n_3log\\left(\\frac{1}{3}(1-\\theta)\\right)$$\n",
        "\n",
        "Derivando:\n",
        "\n",
        "$$\\frac{d}{d\\theta}log L(\\theta)=\\frac{n_0}{\\theta}+\\frac{n_1}{\\theta}-\\frac{n_2}{1-\\theta}-\\frac{n_3}{1-\\theta}=0$$\n",
        "\n",
        "Simplificando:\n",
        "\n",
        "$$\\frac{n_0+n_1}{\\theta}=\\frac{n_2+n_3}{1-\\theta}$$\n",
        "\n",
        "Resolviendo para $\\theta$, el EMV es:\n",
        "\n",
        "$$\\hat{\\theta}=\\frac{n_0+n_1}{n_0+n_1+n_2+n_3}=\\frac{n_0+n_1}{\\sum_{i=0}^{3}n_i}$$\n",
        "\n",
        "\n",
        "Al ser una función discreta se tiene que de las observaciones  $(3, 0, 2, 1, 3, 2, 1, 0, 2, 1)$ las frecuencias $n_i$ para cada X son:\n",
        "\n",
        "*   Veces que aparece $X=0$, es: $n_0=2$\n",
        "*   Veces que aparece $X=1$, es: $n_1=3$\n",
        "*   Veces que aparece $X=2$, es: $n_2=3$\n",
        "*   Veces que aparece $X=3$, es: $n_3=2$\n",
        "\n",
        "Por lo tanto:\n",
        "$$\\hat{\\theta}=\\frac{2+3}{2+3+3+2}=\\frac{5}{10}=0.5$$\n"
      ],
      "metadata": {
        "id": "oPfZvV8lL-WZ"
      }
    },
    {
      "cell_type": "code",
      "source": [
        "import numpy as np\n",
        "import sympy as sp\n",
        "\n",
        "# Observaciones\n",
        "observaciones = np.array([3, 0, 2, 1, 3, 2, 1, 0, 2, 1])\n",
        "\n",
        "# Contar las ocurrencias de cada valor\n",
        "counts = np.bincount(observaciones, minlength=4)  # Al menos hay 4 valores (0, 1, 2, 3)\n",
        "n = len(observaciones)  # Número total de observaciones\n",
        "\n",
        "# Definir la variable simbólica para theta\n",
        "theta = sp.symbols('theta', positive=True)\n",
        "\n",
        "# Definimos la función de verosimilitud\n",
        "L = (2/3)**counts[0] * (1/3)**counts[1] * (2/3)**counts[2] * (1/3)**counts[3] * \\\n",
        "    (theta**(counts[0] + counts[1])) * ((1 - theta)**(counts[2] + counts[3]))\n",
        "\n",
        "# Derivamos la log-verosimilitud\n",
        "log_L = sp.log(L)\n",
        "derivada_log_L = sp.diff(log_L, theta)\n",
        "\n",
        "# Encontramos el EMV resolviendo la ecuación derivada = 0\n",
        "solucion_theta = sp.solve(derivada_log_L, theta)\n",
        "\n",
        "# Mostrar el resultado\n",
        "print(f\"El EMV para θ es: {solucion_theta[0]:.4f}\")"
      ],
      "metadata": {
        "colab": {
          "base_uri": "https://localhost:8080/"
        },
        "id": "7ozArXzURPaG",
        "outputId": "a94495ce-015d-4902-b0bb-75f63da615ed"
      },
      "execution_count": null,
      "outputs": [
        {
          "output_type": "stream",
          "name": "stdout",
          "text": [
            "El EMV para θ es: 0.5000\n"
          ]
        }
      ]
    },
    {
      "cell_type": "markdown",
      "source": [
        "## Intervalos de Confianza\n",
        "\n",
        "**4.- En una encuesta de la UP, 225 estudiantes son seleccionados al azar de los que toman cálculo y se les pregunta si cálculo es su materia favorita. 100 estudiantes responden que el cálculo es su materia favorita. Proporcione un intervalo de confianza del 95 %  para la proporción de todos los estudiantes que toman cálculo y que la consideran su materia favorita.**  \n",
        "\n",
        "Proporción (media) muestral: $\\frac{100}{225}=0.444$\n",
        "\n",
        "Tamaño de muestra: $n=225$\n",
        "\n",
        "Valor crítico para un intervalo de confianza del 95% es $Z_{0.975}=1.96$\n",
        "\n",
        "Error estándar: $\\sqrt{\\frac{\\hat{p}(1-\\hat{p})}{n}} \\approx 0.0332$\n",
        "\n",
        "El intervalo de confianza se encuentra dado por:\n",
        "\n",
        "$$\n",
        "[I_l(X), I_u(X)] = \\left[ \\hat{p} - z_{1-\\frac{\\alpha}{2}} \\sqrt{\\frac{\\hat{p}(1-\\hat{p})}{n}}, \\hat{p} + z_{1-\\frac{\\alpha}{2}} \\sqrt{\\frac{\\hat{p}(1-\\hat{p})}{n}} \\right]\n",
        "$$\n",
        "$$\n",
        "[I_l(X), I_u(X)] = \\left[0.444-1.96 \\cdot 0.0332, 0.444+1.96 \\cdot 0.0332 \\right]\n",
        "$$\n",
        "$$\n",
        "=[0.3795,0.5094]\n",
        "$$"
      ],
      "metadata": {
        "id": "X3VwjlZcvROV"
      }
    },
    {
      "cell_type": "code",
      "source": [
        "import math\n",
        "from scipy import stats\n",
        "\n",
        "# Datos del ejercicio\n",
        "n = 225  # Tamaño de la muestra\n",
        "p_hat = 100 / 225  # Proporción muestral\n",
        "z_95 = 1.96  # Valor crítico para un intervalo de confianza del 95%\n",
        "\n",
        "# Error estándar\n",
        "std_error = math.sqrt((p_hat * (1 - p_hat)) / n)\n",
        "\n",
        "# Cálculo del intervalo de confianza\n",
        "lower = p_hat - z_95 * std_error\n",
        "upper = p_hat + z_95 * std_error\n",
        "\n",
        "print(f\"Intervalo de confianza del 95% para la proporción: ({lower:.4f}, {upper:.4f})\")"
      ],
      "metadata": {
        "colab": {
          "base_uri": "https://localhost:8080/"
        },
        "id": "UrVHKq9MvRih",
        "outputId": "5e91b9f1-4b63-463a-aacf-7812647c73cb"
      },
      "execution_count": null,
      "outputs": [
        {
          "output_type": "stream",
          "name": "stdout",
          "text": [
            "Intervalo de confianza del 95% para la proporción: (0.3795, 0.5094)\n"
          ]
        }
      ]
    },
    {
      "cell_type": "markdown",
      "source": [
        " **5.- Los datos $1, 2, 3, 4$ se toman a partir de una distribución normal $N(\\mu,\\sigma^2)$ con $\\mu$ desconocida.**\n",
        "\n",
        "**1. Encuentra un intervalo de confianza al nivel de $90\\%$ para $\\mu$, dado que $\\sigma =2$**\n",
        "\n",
        "Para encontrar el intervalo para la media con varianza conocida, se sigue la forma:\n",
        "\n",
        "$$[I_l(\\mu), I_u(\\mu)] = \\left[ \\bar{X} - z_{1-\\frac{\\alpha}{2}} \\frac{\\sigma_0}{\\sqrt{n}}, \\bar{X} + z_{1-\\frac{\\alpha}{2}} \\frac{\\sigma_0}{\\sqrt{n}} \\right]$$\n",
        "\n",
        "La media muestral:\n",
        "$$\\bar{X} = \\bar{x} = \\frac{1+2+3+4}{4} = 2.5$$\n",
        "\n",
        "Valor crítico para un intervalo de confianza del 90% es $Z_{0.95}=1.645$\n",
        "\n",
        "Se tiene una desviación estándar poblacional de $\\sigma = 2$\n",
        "\n",
        "Y un tamaño de muestra de $n = 4$\n",
        "\n",
        "Por lo tanto:\n",
        "$$[I_l(\\mu), I_u(\\mu)] = \\left[ 2.5 - 1.645 \\cdot \\frac{2}{\\sqrt{4}}, 2.5 + 1.645 \\cdot \\frac{2}{\\sqrt{4}} \\right]$$\n",
        "$$ = \\left[ 0.855, 4.145 \\right]$$"
      ],
      "metadata": {
        "id": "rv3RNPFYyo8R"
      }
    },
    {
      "cell_type": "code",
      "source": [
        "\n",
        "data = [1, 2, 3, 4]  # Datos muestrales\n",
        "sigma = 2  # Desviación estándar poblacional\n",
        "z_90 = 1.645  # Valor crítico para un intervalo de confianza del 90%\n",
        "\n",
        "# Media muestral\n",
        "x_bar = sum(data) / len(data)\n",
        "\n",
        "# Error estándar\n",
        "std_error_mu = sigma / math.sqrt(len(data))\n",
        "\n",
        "# Cálculo del intervalo de confianza\n",
        "lower_bound_mu = x_bar - z_90 * std_error_mu\n",
        "upper_bound_mu = x_bar + z_90 * std_error_mu\n",
        "\n",
        "print(f\"Intervalo de confianza del 90% para la media: ({lower_bound_mu:.4f}, {upper_bound_mu:.4f})\")"
      ],
      "metadata": {
        "colab": {
          "base_uri": "https://localhost:8080/"
        },
        "id": "14Z9UaCVypDV",
        "outputId": "fce9e2e0-9cde-48b8-d942-c28d373832df"
      },
      "execution_count": null,
      "outputs": [
        {
          "output_type": "stream",
          "name": "stdout",
          "text": [
            "Intervalo de confianza del 90% para la media: (0.8550, 4.1450)\n"
          ]
        }
      ]
    },
    {
      "cell_type": "markdown",
      "source": [
        "**2. Encuentra un intervalo de confianza al nivel de $90\\%$ para $\\mu$.**\n",
        "\n",
        "Para encontrar el intervalo para la media sin varianza conocida, se sigue la forma:  \n",
        "$$\n",
        "[I_l(\\mu), I_u(\\mu)] = \\left[ \\bar{X} - t_{1-\\frac{\\alpha}{2}, n-1} \\frac{S_X}{\\sqrt{n}}, \\bar{X} + t_{1-\\frac{\\alpha}{2}, n-1} \\frac{S_X}{\\sqrt{n}} \\right]\n",
        "$$\n",
        "\n",
        "Con media muestral:\n",
        "$$\n",
        "\\bar{X} = \\bar{x} = \\frac{1+2+3+4}{4} = 2.5\n",
        "$$\n",
        "Y desviacion muestral:\n",
        "$$\n",
        "S_X = \\sqrt{\\frac{1}{n-1} \\sum_{i=1}^{n} (x_i - \\bar{X})^2} = \\sqrt{\\frac{5}{3}} \\approx 1.2909\n",
        "$$\n",
        "Valor crítico para un intervalo de confianza del 90% es $t_{0.95} = 2.353$\n",
        "\n",
        "Y un tamaño de muestra de $n = 4$\n",
        "\n",
        "Por lo tanto:\n",
        "$$\n",
        "[I_l(\\mu), I_u(\\mu)] = \\left[ 2.5-2.353 \\cdot \\frac{1.2909}{2}, 2.5+2.353 \\cdot \\frac{1.2909}{2}  \\right]\n",
        "$$\n",
        "$$\n",
        "=\\left[ 0.9809, 4.0191 \\right]\n",
        "$$\n"
      ],
      "metadata": {
        "id": "9TGk-q1m1uqn"
      }
    },
    {
      "cell_type": "code",
      "source": [
        "import numpy as np\n",
        "import sympy as sp\n",
        "from scipy import stats\n",
        "\n",
        "data = [1, 2, 3, 4]  # Datos muestrales\n",
        "\n",
        "confidence_level = 0.90\n",
        "alpha = 1 - confidence_level\n",
        "n = len(data)\n",
        "mean = np.mean(data)  # Media muestral\n",
        "std_dev = np.std(data, ddof=1)  # Desviación estándar muestral\n",
        "t_critical = stats.t.ppf(1 - alpha/2, n - 1)\n",
        "\n",
        "# Cálculo del intervalo de confianza\n",
        "lower_bound_mu = mean - t_critical * (std_dev / np.sqrt(n))\n",
        "upper_bound_mu = mean + t_critical * (std_dev / np.sqrt(n))\n",
        "\n",
        "print(f\"Intervalo de confianza del 90% para la media: ({lower_bound_mu:.4f}, {upper_bound_mu:.4f})\")"
      ],
      "metadata": {
        "colab": {
          "base_uri": "https://localhost:8080/"
        },
        "id": "fd0zSv-X3ARz",
        "outputId": "96a9af33-1740-4bd1-eda3-77ac949116b4"
      },
      "execution_count": null,
      "outputs": [
        {
          "output_type": "stream",
          "name": "stdout",
          "text": [
            "Intervalo de confianza del 90% para la media: (0.9809, 4.0191)\n"
          ]
        }
      ]
    },
    {
      "cell_type": "markdown",
      "source": [
        "**3. Encuentra un intervalo de confianza al nivel de $90\\%$ para $\\sigma^2$.**\n",
        "\n",
        "Para encontrar el intervalo para la varianza, se sigue la forma:\n",
        "   \n",
        "$$\n",
        "[I_l(\\sigma^2), I_u(\\sigma^2)] = \\left[ \\frac{(n-1)S^2}{\\chi^2_{1-\\frac{\\alpha}{2}, n-1}}, \\frac{(n-1)S^2}{\\chi^2_{\\frac{\\alpha}{2}, n-1}} \\right]\n",
        "$$\n",
        "\n",
        "Valor crítico para un intervalo de confianza del 90% es:\n",
        "$$\n",
        "\\chi^2_{1-\\frac{\\alpha}{2}, n-1} = 0.352\n",
        "$$\n",
        "$$\n",
        "\\chi^2_{\\frac{\\alpha}{2}, n-1} = 7.815\n",
        "$$  \n",
        "\n",
        "Siendo la varianza muestral:\n",
        "$$\n",
        "S^2 = \\frac{1}{n-1} \\sum_{i=1}^{n} (x_i - \\bar{X})^2 = \\frac{5}{3} \\approx 1.666\n",
        "$$\n",
        "Y un tamaño de muestra de $n = 4$\n",
        "\n",
        "Por lo tanto:\n",
        "$$\n",
        "[I_l(\\sigma^2), I_u(\\sigma^2)] = \\left[ \\frac{3 \\cdot \\frac{5}{3}}{0.352}, \\frac{3 \\cdot \\frac{5}{3}}{7.815} \\right]\n",
        "$$\n",
        "$$\n",
        "= \\left[ 0.6398, 14.2107 \\right]\n",
        "$$"
      ],
      "metadata": {
        "id": "84HUHvvS5A8R"
      }
    },
    {
      "cell_type": "code",
      "source": [
        "data = [1, 2, 3, 4]\n",
        "alpha = 0.10  # Nivel de significancia para un intervalo de confianza del 90%\n",
        "\n",
        "# Varianza muestral\n",
        "n = len(data)\n",
        "sigma = sum((x - sum(data)/n) ** 2 for x in data) / (n - 1)\n",
        "\n",
        "# Valores críticos de la distribución chi-cuadrada\n",
        "chi2_lower = stats.chi2.ppf(1 - alpha / 2, df=n-1)\n",
        "chi2_upper = stats.chi2.ppf(alpha / 2, df=n-1)\n",
        "\n",
        "# Intervalo de confianza para sigma^2\n",
        "lower_bound_var = (n - 1) * sigma / chi2_lower\n",
        "upper_bound_var = (n - 1) * sigma / chi2_upper\n",
        "\n",
        "print(f\"Intervalo de confianza del 90% para la varianza: ({lower_bound_var:.4f}, {upper_bound_var:.4f})\")"
      ],
      "metadata": {
        "colab": {
          "base_uri": "https://localhost:8080/"
        },
        "id": "LcsW_Xb75BES",
        "outputId": "f26901b9-d926-47db-b829-acbbb43a60d9"
      },
      "execution_count": null,
      "outputs": [
        {
          "output_type": "stream",
          "name": "stdout",
          "text": [
            "Intervalo de confianza del 90% para la varianza: (0.6398, 14.2107)\n"
          ]
        }
      ]
    }
  ]
}