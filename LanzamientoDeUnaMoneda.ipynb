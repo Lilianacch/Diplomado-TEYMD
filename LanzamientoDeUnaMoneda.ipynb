{
  "nbformat": 4,
  "nbformat_minor": 0,
  "metadata": {
    "colab": {
      "provenance": []
    },
    "kernelspec": {
      "name": "python3",
      "display_name": "Python 3"
    },
    "language_info": {
      "name": "python"
    }
  },
  "cells": [
    {
      "cell_type": "markdown",
      "source": [
        "**Sala 1:**\n",
        "- Daniel Alejandro Cardenas Alamilla\n",
        "- Daniel González Escobar\n",
        "- Sebastian Hurtado Wong\n",
        "- Claudia Liliana Carbajal Chavez\n",
        "- Dulce Jasmin Estrada Espinoza"
      ],
      "metadata": {
        "id": "isxmQCnhuymt"
      }
    },
    {
      "cell_type": "markdown",
      "source": [
        "## Modelo de probabilidad Laplaciano (cláasico):\n",
        "\n",
        "**Ejemplo** Se lanza una moneda 3 veces, de manera independiente (es decir, el lanzamienro $i$-ésimo no afecta al siguiente $i+1$).\n",
        "Tenemos que el espacio muestral de este experiemto es:\n",
        "\n",
        "$$ \\Omega = \\{A,S\\}×\\{A,S\\}×\\{A,S\\} = \\{A,S\\}^{3}$$\n",
        "donde\n",
        "$$\\#\\Omega = 2^{3} = 8.$$\n",
        "\n",
        "Sea $E$ un evento, entonces la probabilidad de $E$ se calcula como sigue:\n",
        "$$\\mathbb{P}(E) = \\frac{\\#E}{\\#\\Omega}$$"
      ],
      "metadata": {
        "id": "2JyC8DXzXsTz"
      }
    },
    {
      "cell_type": "code",
      "source": [
        "# Para crear a Omega (el espacio muestral), necesitamos\n",
        "import itertools\n",
        "from itertools import product\n",
        "\n",
        "omega = set(product({'A', 'S'}, repeat = 3))\n",
        "omega"
      ],
      "metadata": {
        "colab": {
          "base_uri": "https://localhost:8080/"
        },
        "id": "Ktwcs4sNZnNW",
        "outputId": "0a9445be-5970-40bf-9b29-b09de600d57e"
      },
      "execution_count": null,
      "outputs": [
        {
          "output_type": "execute_result",
          "data": {
            "text/plain": [
              "{('A', 'A', 'A'),\n",
              " ('A', 'A', 'S'),\n",
              " ('A', 'S', 'A'),\n",
              " ('A', 'S', 'S'),\n",
              " ('S', 'A', 'A'),\n",
              " ('S', 'A', 'S'),\n",
              " ('S', 'S', 'A'),\n",
              " ('S', 'S', 'S')}"
            ]
          },
          "metadata": {},
          "execution_count": 11
        }
      ]
    },
    {
      "cell_type": "markdown",
      "source": [
        "Consideremos los siguientes eventos:\n",
        "1. A: todos los resultados son águila\n",
        "2. S: todos los resultados son sol\n",
        "3. E: por lo menos un resultado es sol\n",
        "\n",
        "Sea el evento $A_{i}$ donde cae águila en el $i$-esimo resultado. Asi, tenemos\n",
        "\n",
        "$$A=A_{1} \\cap A_{2} \\cap A_{3}$$\n",
        "\n",
        "Vamos a crear nuestro primer evento $A_{1}$ donde la primera cordenada es aguila"
      ],
      "metadata": {
        "id": "V6gq35S7cbMe"
      }
    },
    {
      "cell_type": "code",
      "source": [
        "A_1 = {om for om in omega if om[0] == 'A'}\n",
        "A_1"
      ],
      "metadata": {
        "colab": {
          "base_uri": "https://localhost:8080/"
        },
        "id": "IKbY-cvdaDaK",
        "outputId": "cf7f6112-cc87-45c0-dd91-8cf95da14af6"
      },
      "execution_count": null,
      "outputs": [
        {
          "output_type": "execute_result",
          "data": {
            "text/plain": [
              "{('A', 'A', 'A'), ('A', 'A', 'S'), ('A', 'S', 'A'), ('A', 'S', 'S')}"
            ]
          },
          "metadata": {},
          "execution_count": 19
        }
      ]
    },
    {
      "cell_type": "code",
      "source": [
        "A_2 = {om for om in omega if om[1] == 'A'}\n",
        "A_2"
      ],
      "metadata": {
        "colab": {
          "base_uri": "https://localhost:8080/"
        },
        "id": "xV3vPrpRaDiL",
        "outputId": "96bf5408-3337-4d6a-8ba3-c575031efc24"
      },
      "execution_count": null,
      "outputs": [
        {
          "output_type": "execute_result",
          "data": {
            "text/plain": [
              "{('A', 'A', 'A'), ('A', 'A', 'S'), ('S', 'A', 'A'), ('S', 'A', 'S')}"
            ]
          },
          "metadata": {},
          "execution_count": 21
        }
      ]
    },
    {
      "cell_type": "code",
      "source": [
        "A_3 = {om for om in omega if om[2] == 'A'}\n",
        "A_3"
      ],
      "metadata": {
        "colab": {
          "base_uri": "https://localhost:8080/"
        },
        "id": "45MWRXlhaDly",
        "outputId": "538b5836-aa84-4548-bf3d-f40b9856e823"
      },
      "execution_count": null,
      "outputs": [
        {
          "output_type": "execute_result",
          "data": {
            "text/plain": [
              "{('A', 'A', 'A'), ('A', 'S', 'A'), ('S', 'A', 'A'), ('S', 'S', 'A')}"
            ]
          },
          "metadata": {},
          "execution_count": 22
        }
      ]
    },
    {
      "cell_type": "markdown",
      "source": [
        "Para intersectar conjuntos usamos la funcion `intersection()`\n",
        "\n"
      ],
      "metadata": {
        "id": "BCtEBrZ9iYNI"
      }
    },
    {
      "cell_type": "code",
      "source": [
        "A = A_1.intersection(A_2).intersection(A_3)\n",
        "A"
      ],
      "metadata": {
        "colab": {
          "base_uri": "https://localhost:8080/"
        },
        "id": "tppPlJmHaDpT",
        "outputId": "d7370b8b-24e1-4200-809f-ea896bcfbd75"
      },
      "execution_count": null,
      "outputs": [
        {
          "output_type": "execute_result",
          "data": {
            "text/plain": [
              "{('A', 'A', 'A')}"
            ]
          },
          "metadata": {},
          "execution_count": 35
        }
      ]
    },
    {
      "cell_type": "markdown",
      "source": [
        "Vamos a calcular la probabilidad del evento A"
      ],
      "metadata": {
        "id": "sdYxPfYrjfBJ"
      }
    },
    {
      "cell_type": "code",
      "source": [
        "P_A = len(A)/len(omega)\n",
        "P_A"
      ],
      "metadata": {
        "colab": {
          "base_uri": "https://localhost:8080/"
        },
        "id": "MGo77pZvjivo",
        "outputId": "fcc604f6-38f4-4f65-84fb-15eacb6f55ec"
      },
      "execution_count": null,
      "outputs": [
        {
          "output_type": "execute_result",
          "data": {
            "text/plain": [
              "0.125"
            ]
          },
          "metadata": {},
          "execution_count": 29
        }
      ]
    },
    {
      "cell_type": "markdown",
      "source": [
        "En vez del decimal, podemos tener el numero expresado en fraccion, lo cual se hace como sigue.\n",
        "Vamos a crear una funcion que calcule la probabilidad de un evento $E$ dentro de un espacio muestral $\\Omega$:"
      ],
      "metadata": {
        "id": "XYPpV4r1lf99"
      }
    },
    {
      "cell_type": "code",
      "source": [
        "from fractions import Fraction\n",
        "\n",
        "def p(event, omega):\n",
        "  return Fraction(len(event), len(omega))"
      ],
      "metadata": {
        "id": "52VCySvslz-E"
      },
      "execution_count": null,
      "outputs": []
    },
    {
      "cell_type": "code",
      "source": [
        "p(A, omega)"
      ],
      "metadata": {
        "colab": {
          "base_uri": "https://localhost:8080/"
        },
        "id": "s-cG_698mcwY",
        "outputId": "e51e99dc-af14-4a12-9a8c-7882e89533f0"
      },
      "execution_count": null,
      "outputs": [
        {
          "output_type": "execute_result",
          "data": {
            "text/plain": [
              "Fraction(1, 8)"
            ]
          },
          "metadata": {},
          "execution_count": 37
        }
      ]
    },
    {
      "cell_type": "code",
      "source": [
        "S_1 = {om for om in omega if om[0] == 'S'}\n",
        "S_1"
      ],
      "metadata": {
        "colab": {
          "base_uri": "https://localhost:8080/"
        },
        "id": "xlGvJ0lIpS_f",
        "outputId": "02a9fb31-ac40-4f08-a358-5417f815a823"
      },
      "execution_count": null,
      "outputs": [
        {
          "output_type": "execute_result",
          "data": {
            "text/plain": [
              "{('S', 'A', 'A'), ('S', 'A', 'S'), ('S', 'S', 'A'), ('S', 'S', 'S')}"
            ]
          },
          "metadata": {},
          "execution_count": 43
        }
      ]
    },
    {
      "cell_type": "code",
      "source": [
        "S_2 = {om for om in omega if om[1] == 'S'}\n",
        "S_2"
      ],
      "metadata": {
        "colab": {
          "base_uri": "https://localhost:8080/"
        },
        "id": "xrPu_u0ZpTKC",
        "outputId": "90644142-076a-4239-93be-b0ff750600df"
      },
      "execution_count": null,
      "outputs": [
        {
          "output_type": "execute_result",
          "data": {
            "text/plain": [
              "{('A', 'S', 'A'), ('A', 'S', 'S'), ('S', 'S', 'A'), ('S', 'S', 'S')}"
            ]
          },
          "metadata": {},
          "execution_count": 44
        }
      ]
    },
    {
      "cell_type": "code",
      "source": [
        "S_3 = {om for om in omega if om[2] == 'S'}\n",
        "S_3"
      ],
      "metadata": {
        "colab": {
          "base_uri": "https://localhost:8080/"
        },
        "id": "ZdtAD2dfpTPg",
        "outputId": "1691d272-277d-4ff5-e45e-044f7ba8f056"
      },
      "execution_count": null,
      "outputs": [
        {
          "output_type": "execute_result",
          "data": {
            "text/plain": [
              "{('A', 'A', 'S'), ('A', 'S', 'S'), ('S', 'A', 'S'), ('S', 'S', 'S')}"
            ]
          },
          "metadata": {},
          "execution_count": 45
        }
      ]
    },
    {
      "cell_type": "code",
      "source": [
        "S = S_1.intersection(S_2).intersection(S_3)\n",
        "S"
      ],
      "metadata": {
        "colab": {
          "base_uri": "https://localhost:8080/"
        },
        "id": "2uZqOREspTTX",
        "outputId": "518f0bd9-d123-4a58-cffb-d18ec7598158"
      },
      "execution_count": null,
      "outputs": [
        {
          "output_type": "execute_result",
          "data": {
            "text/plain": [
              "{('S', 'S', 'S')}"
            ]
          },
          "metadata": {},
          "execution_count": 46
        }
      ]
    },
    {
      "cell_type": "code",
      "source": [
        "p(S, omega)"
      ],
      "metadata": {
        "colab": {
          "base_uri": "https://localhost:8080/"
        },
        "id": "WcdbnvcHpTXQ",
        "outputId": "f84c5197-e3a9-4e5c-9cbf-72c251034ee4"
      },
      "execution_count": null,
      "outputs": [
        {
          "output_type": "execute_result",
          "data": {
            "text/plain": [
              "Fraction(1, 8)"
            ]
          },
          "metadata": {},
          "execution_count": 47
        }
      ]
    },
    {
      "cell_type": "code",
      "source": [
        "E = S_1.union(S_2).union(S_3)\n",
        "E"
      ],
      "metadata": {
        "colab": {
          "base_uri": "https://localhost:8080/"
        },
        "id": "PT75FFvzpTa3",
        "outputId": "52cb1751-ed93-4231-bbca-23aefd6d6687"
      },
      "execution_count": null,
      "outputs": [
        {
          "output_type": "execute_result",
          "data": {
            "text/plain": [
              "{('A', 'A', 'S'),\n",
              " ('A', 'S', 'A'),\n",
              " ('A', 'S', 'S'),\n",
              " ('S', 'A', 'A'),\n",
              " ('S', 'A', 'S'),\n",
              " ('S', 'S', 'A'),\n",
              " ('S', 'S', 'S')}"
            ]
          },
          "metadata": {},
          "execution_count": 49
        }
      ]
    },
    {
      "cell_type": "code",
      "source": [
        "p(E, omega)"
      ],
      "metadata": {
        "colab": {
          "base_uri": "https://localhost:8080/"
        },
        "id": "wlm0wxaLpTen",
        "outputId": "a759936a-faf2-4ecf-f481-50be5ae360e4"
      },
      "execution_count": null,
      "outputs": [
        {
          "output_type": "execute_result",
          "data": {
            "text/plain": [
              "Fraction(7, 8)"
            ]
          },
          "metadata": {},
          "execution_count": 50
        }
      ]
    }
  ]
}